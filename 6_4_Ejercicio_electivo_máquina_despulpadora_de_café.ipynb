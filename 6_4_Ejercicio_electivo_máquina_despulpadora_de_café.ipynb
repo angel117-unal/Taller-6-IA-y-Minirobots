{
  "nbformat": 4,
  "nbformat_minor": 0,
  "metadata": {
    "colab": {
      "provenance": []
    },
    "kernelspec": {
      "name": "python3",
      "display_name": "Python 3"
    },
    "language_info": {
      "name": "python"
    }
  },
  "cells": [
    {
      "cell_type": "code",
      "execution_count": null,
      "metadata": {
        "id": "cJbcy0ZF6f90"
      },
      "outputs": [],
      "source": [
        "import numpy as np\n",
        "import pandas as pd\n",
        "import matplotlib.pyplot as plt\n",
        "from sklearn.model_selection import train_test_split\n",
        "from sklearn.tree import DecisionTreeClassifier\n",
        "from sklearn.metrics import accuracy_score, classification_report"
      ]
    },
    {
      "cell_type": "code",
      "source": [
        "# Simulación de datos de la máquina despulpadora\n",
        "data = {\n",
        "    'peso_almendra': np.random.uniform(0.5, 2.0, 100),  # Peso en gramos\n",
        "    'humedad': np.random.uniform(10, 30, 100),  # Humedad en %\n",
        "    'tiempo_procesamiento': np.random.uniform(5, 20, 100),  # Tiempo en segundos\n",
        "    'estado_tambor': np.random.choice([0, 1], 100),  # 0 = Apagado, 1 = Encendido\n",
        "    'calidad': np.random.choice([\"Alta\", \"Media\", \"Baja\"], 100)  # Clasificación de calidad\n",
        "}"
      ],
      "metadata": {
        "id": "lRgx5uq46oIn"
      },
      "execution_count": null,
      "outputs": []
    },
    {
      "cell_type": "code",
      "source": [
        "# Convertir a DataFrame\n",
        "df = pd.DataFrame(data)\n",
        "print(\"Primeras filas del dataset:\")\n",
        "print(df.head())\n"
      ],
      "metadata": {
        "colab": {
          "base_uri": "https://localhost:8080/"
        },
        "id": "lgNSKj9A6qEh",
        "outputId": "b21de345-8c99-44e1-ee63-90233bab6721"
      },
      "execution_count": null,
      "outputs": [
        {
          "output_type": "stream",
          "name": "stdout",
          "text": [
            "Primeras filas del dataset:\n",
            "   peso_almendra    humedad  tiempo_procesamiento  estado_tambor calidad\n",
            "0       1.178786  22.566528             18.351673              0    Baja\n",
            "1       0.705768  24.279742              7.482409              1   Media\n",
            "2       0.832496  10.626293              7.962468              1    Alta\n",
            "3       1.784981  19.758189             10.066171              0    Baja\n",
            "4       1.601792  28.166883             14.933739              0    Baja\n"
          ]
        }
      ]
    },
    {
      "cell_type": "code",
      "source": [
        "# Convertir la variable de calidad en valores numéricos\n",
        "calidad_map = {\"Baja\": 0, \"Media\": 1, \"Alta\": 2}\n",
        "df['calidad'] = df['calidad'].map(calidad_map)"
      ],
      "metadata": {
        "id": "0K5azsZB6tmu"
      },
      "execution_count": null,
      "outputs": []
    },
    {
      "cell_type": "code",
      "source": [
        "# Definir las características (X) y la variable objetivo (y)\n",
        "X = df.drop(columns=['calidad'])\n",
        "y = df['calidad']\n",
        "\n",
        "# Dividir los datos en entrenamiento (80%) y prueba (20%)\n",
        "X_train, X_test, y_train, y_test = train_test_split(X, y, test_size=0.2, random_state=42)\n",
        "\n",
        "# Definir el modelo con Árbol de Decisión\n",
        "tree_model = DecisionTreeClassifier(max_depth=4, random_state=42)"
      ],
      "metadata": {
        "id": "_hiGMQnD6v7m"
      },
      "execution_count": null,
      "outputs": []
    },
    {
      "cell_type": "code",
      "source": [
        "# Entrenar el modelo\n",
        "tree_model.fit(X_train, y_train)\n",
        "\n",
        "# Hacer predicciones\n",
        "y_pred = tree_model.predict(X_test)\n"
      ],
      "metadata": {
        "id": "KQCu53596yae"
      },
      "execution_count": null,
      "outputs": []
    },
    {
      "cell_type": "code",
      "source": [
        "# Evaluar el modelo\n",
        "accuracy = accuracy_score(y_test, y_pred)\n",
        "print(f\"Precisión del modelo: {accuracy:.2f}\")\n",
        "print(\"Reporte de clasificación:\")\n",
        "print(classification_report(y_test, y_pred))"
      ],
      "metadata": {
        "colab": {
          "base_uri": "https://localhost:8080/"
        },
        "id": "sHCKoeiG60X-",
        "outputId": "b954eac4-2301-4b24-ca64-06787fc94fef"
      },
      "execution_count": null,
      "outputs": [
        {
          "output_type": "stream",
          "name": "stdout",
          "text": [
            "Precisión del modelo: 0.45\n",
            "Reporte de clasificación:\n",
            "              precision    recall  f1-score   support\n",
            "\n",
            "           0       0.56      0.90      0.69        10\n",
            "           1       0.00      0.00      0.00         5\n",
            "           2       0.00      0.00      0.00         5\n",
            "\n",
            "    accuracy                           0.45        20\n",
            "   macro avg       0.19      0.30      0.23        20\n",
            "weighted avg       0.28      0.45      0.35        20\n",
            "\n"
          ]
        }
      ]
    },
    {
      "cell_type": "code",
      "source": [
        "# Visualización de importancia de características\n",
        "importances = tree_model.feature_importances_\n",
        "plt.bar(X.columns, importances, color='blue')\n",
        "plt.xlabel('Características')\n",
        "plt.ylabel('Importancia')\n",
        "plt.title('Importancia de cada característica en la clasificación')\n",
        "plt.show()"
      ],
      "metadata": {
        "id": "wjnrhQJb626-",
        "outputId": "93d75141-b77c-4a38-8bbf-ebc4b7b49348",
        "colab": {
          "base_uri": "https://localhost:8080/",
          "height": 472
        }
      },
      "execution_count": null,
      "outputs": [
        {
          "output_type": "display_data",
          "data": {
            "text/plain": [
              "<Figure size 640x480 with 1 Axes>"
            ],
            "image/png": "[encoded data removed]"
          },
          "metadata": {}
        }
      ]
    }
  ]
}